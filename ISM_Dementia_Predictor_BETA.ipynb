{
  "nbformat": 4,
  "nbformat_minor": 0,
  "metadata": {
    "colab": {
      "provenance": []
    },
    "kernelspec": {
      "name": "python3",
      "display_name": "Python 3"
    },
    "language_info": {
      "name": "python"
    }
  },
  "cells": [
    {
      "cell_type": "code",
      "execution_count": null,
      "metadata": {
        "id": "uekD7UDP0Qrs"
      },
      "outputs": [],
      "source": [
        "# Importing necessary libraries\n",
        "import numpy as np\n",
        "import pandas as pd\n",
        "from sklearn.model_selection import train_test_split\n",
        "from sklearn.ensemble import RandomForestRegressor\n",
        "from sklearn.metrics import mean_squared_error, r2_score\n",
        "from sklearn.preprocessing import LabelEncoder"
      ]
    },
    {
      "cell_type": "code",
      "source": [
        "# Loading the dataset\n",
        "data = pd.read_csv('sample_data/oasis_cross-sectional.csv')"
      ],
      "metadata": {
        "id": "aYCHgi1_0WFu"
      },
      "execution_count": null,
      "outputs": []
    },
    {
      "cell_type": "code",
      "source": [
        "# Data preprocessing and replace missing values\n",
        "data.fillna(data.mean(numeric_only=True), inplace=True)"
      ],
      "metadata": {
        "id": "bDIwz2Wz4afx"
      },
      "execution_count": null,
      "outputs": []
    },
    {
      "cell_type": "code",
      "source": [
        "# Encode categorical data\n",
        "label_encoder = LabelEncoder()\n",
        "data['M/F'] = label_encoder.fit_transform(data['M/F'])\n",
        "\"\"\" data['Hand'] = label_encoder.fit_transform(data['Hand']), there are no left-handed people in this dataset, so I excluded the parameter altogether \"\"\"\n",
        "print(data['M/F']) #as you can see with the print, F=0 and M=1"
      ],
      "metadata": {
        "id": "0F2RtQrr0ZsS",
        "colab": {
          "base_uri": "https://localhost:8080/"
        },
        "outputId": "6e756256-df45-4da7-e496-95619267a018"
      },
      "execution_count": null,
      "outputs": [
        {
          "output_type": "stream",
          "name": "stdout",
          "text": [
            "0      0\n",
            "1      0\n",
            "2      0\n",
            "3      1\n",
            "4      1\n",
            "      ..\n",
            "431    1\n",
            "432    1\n",
            "433    1\n",
            "434    0\n",
            "435    0\n",
            "Name: M/F, Length: 436, dtype: int64\n"
          ]
        }
      ]
    },
    {
      "cell_type": "code",
      "source": [
        "# Defining features (X) and the target (y)\n",
        "X = data[['M/F', 'Age', 'Educ', 'SES', 'MMSE', 'eTIV', 'nWBV', 'ASF']]\n",
        "y = data['CDR']\n",
        "\n",
        "\"\"\"\n",
        "Clarifications for later:\n",
        "M/F: Gender\n",
        "Age: Age\n",
        "Educ: Education level (following levels of education: 1: less than high school grad., 2: high school grad., 3: some college, 4: college grad., 5: beyond college)\n",
        "SES: Socioeconomic Status ()\n",
        "MMSE: Mini Mental State Examination\n",
        "CDR: Clinical Dementia Rating (We are trying to predict this!!) -- Ratings are assigned on a 0–5 point scale, (0 = absent; 0.5 = questionable; 1= present, but mild; 2 = moderate; 3 = severe; 4 = profound; 5 = terminal)\n",
        "eTIV: Estimated Total Intracranial Volume\n",
        "nWBV: Normalize Whole Brain Volume\n",
        "ASF: Atlas Scaling Factor (atlas-based head size normalization technique to measure the standardized total intracranial volume for comparison, classification and predication)\n",
        "\"\"\""
      ],
      "metadata": {
        "id": "WBE9pYeH40ak",
        "colab": {
          "base_uri": "https://localhost:8080/",
          "height": 107
        },
        "outputId": "060feea1-afe1-404f-efa6-31861ff93a50"
      },
      "execution_count": null,
      "outputs": [
        {
          "output_type": "execute_result",
          "data": {
            "text/plain": [
              "'\\nClarifications for later:\\nM/F: Gender\\nAge: Age\\nEduc: Education level (following levels of education: 1: less than high school grad., 2: high school grad., 3: some college, 4: college grad., 5: beyond college)\\nSES: Socioeconomic Status ()\\nMMSE: Mini Mental State Examination\\nCDR: Clinical Dementia Rating (We are trying to predict this!!) -- Ratings are assigned on a 0–5 point scale, (0 = absent; 0.5 = questionable; 1= present, but mild; 2 = moderate; 3 = severe; 4 = profound; 5 = terminal)\\neTIV: Estimated Total Intracranial Volume\\nnWBV: Normalize Whole Brain Volume\\nASF: Atlas Scaling Factor (atlas-based head size normalization technique to measure the standardized total intracranial volume for comparison, classification and predication)\\n'"
            ],
            "application/vnd.google.colaboratory.intrinsic+json": {
              "type": "string"
            }
          },
          "metadata": {},
          "execution_count": 20
        }
      ]
    },
    {
      "cell_type": "code",
      "source": [
        "# Split the data into training and testing sets\n",
        "X_train, X_test, y_train, y_test = train_test_split(X, y, test_size=0.2, random_state=42)"
      ],
      "metadata": {
        "id": "ImZq_wAz0c9J"
      },
      "execution_count": null,
      "outputs": []
    },
    {
      "cell_type": "code",
      "source": [
        "# Random Forest Regressor model\n",
        "model = RandomForestRegressor(n_estimators=100, random_state=42)\n",
        "\n",
        "# Train the model\n",
        "model.fit(X_train, y_train)"
      ],
      "metadata": {
        "id": "Oqkx_pI70dev",
        "colab": {
          "base_uri": "https://localhost:8080/",
          "height": 75
        },
        "outputId": "e3c179e0-625f-4cad-9ca7-1e4d411d3927"
      },
      "execution_count": null,
      "outputs": [
        {
          "output_type": "execute_result",
          "data": {
            "text/plain": [
              "RandomForestRegressor(random_state=42)"
            ],
            "text/html": [
              "<style>#sk-container-id-2 {color: black;background-color: white;}#sk-container-id-2 pre{padding: 0;}#sk-container-id-2 div.sk-toggleable {background-color: white;}#sk-container-id-2 label.sk-toggleable__label {cursor: pointer;display: block;width: 100%;margin-bottom: 0;padding: 0.3em;box-sizing: border-box;text-align: center;}#sk-container-id-2 label.sk-toggleable__label-arrow:before {content: \"▸\";float: left;margin-right: 0.25em;color: #696969;}#sk-container-id-2 label.sk-toggleable__label-arrow:hover:before {color: black;}#sk-container-id-2 div.sk-estimator:hover label.sk-toggleable__label-arrow:before {color: black;}#sk-container-id-2 div.sk-toggleable__content {max-height: 0;max-width: 0;overflow: hidden;text-align: left;background-color: #f0f8ff;}#sk-container-id-2 div.sk-toggleable__content pre {margin: 0.2em;color: black;border-radius: 0.25em;background-color: #f0f8ff;}#sk-container-id-2 input.sk-toggleable__control:checked~div.sk-toggleable__content {max-height: 200px;max-width: 100%;overflow: auto;}#sk-container-id-2 input.sk-toggleable__control:checked~label.sk-toggleable__label-arrow:before {content: \"▾\";}#sk-container-id-2 div.sk-estimator input.sk-toggleable__control:checked~label.sk-toggleable__label {background-color: #d4ebff;}#sk-container-id-2 div.sk-label input.sk-toggleable__control:checked~label.sk-toggleable__label {background-color: #d4ebff;}#sk-container-id-2 input.sk-hidden--visually {border: 0;clip: rect(1px 1px 1px 1px);clip: rect(1px, 1px, 1px, 1px);height: 1px;margin: -1px;overflow: hidden;padding: 0;position: absolute;width: 1px;}#sk-container-id-2 div.sk-estimator {font-family: monospace;background-color: #f0f8ff;border: 1px dotted black;border-radius: 0.25em;box-sizing: border-box;margin-bottom: 0.5em;}#sk-container-id-2 div.sk-estimator:hover {background-color: #d4ebff;}#sk-container-id-2 div.sk-parallel-item::after {content: \"\";width: 100%;border-bottom: 1px solid gray;flex-grow: 1;}#sk-container-id-2 div.sk-label:hover label.sk-toggleable__label {background-color: #d4ebff;}#sk-container-id-2 div.sk-serial::before {content: \"\";position: absolute;border-left: 1px solid gray;box-sizing: border-box;top: 0;bottom: 0;left: 50%;z-index: 0;}#sk-container-id-2 div.sk-serial {display: flex;flex-direction: column;align-items: center;background-color: white;padding-right: 0.2em;padding-left: 0.2em;position: relative;}#sk-container-id-2 div.sk-item {position: relative;z-index: 1;}#sk-container-id-2 div.sk-parallel {display: flex;align-items: stretch;justify-content: center;background-color: white;position: relative;}#sk-container-id-2 div.sk-item::before, #sk-container-id-2 div.sk-parallel-item::before {content: \"\";position: absolute;border-left: 1px solid gray;box-sizing: border-box;top: 0;bottom: 0;left: 50%;z-index: -1;}#sk-container-id-2 div.sk-parallel-item {display: flex;flex-direction: column;z-index: 1;position: relative;background-color: white;}#sk-container-id-2 div.sk-parallel-item:first-child::after {align-self: flex-end;width: 50%;}#sk-container-id-2 div.sk-parallel-item:last-child::after {align-self: flex-start;width: 50%;}#sk-container-id-2 div.sk-parallel-item:only-child::after {width: 0;}#sk-container-id-2 div.sk-dashed-wrapped {border: 1px dashed gray;margin: 0 0.4em 0.5em 0.4em;box-sizing: border-box;padding-bottom: 0.4em;background-color: white;}#sk-container-id-2 div.sk-label label {font-family: monospace;font-weight: bold;display: inline-block;line-height: 1.2em;}#sk-container-id-2 div.sk-label-container {text-align: center;}#sk-container-id-2 div.sk-container {/* jupyter's `normalize.less` sets `[hidden] { display: none; }` but bootstrap.min.css set `[hidden] { display: none !important; }` so we also need the `!important` here to be able to override the default hidden behavior on the sphinx rendered scikit-learn.org. See: https://github.com/scikit-learn/scikit-learn/issues/21755 */display: inline-block !important;position: relative;}#sk-container-id-2 div.sk-text-repr-fallback {display: none;}</style><div id=\"sk-container-id-2\" class=\"sk-top-container\"><div class=\"sk-text-repr-fallback\"><pre>RandomForestRegressor(random_state=42)</pre><b>In a Jupyter environment, please rerun this cell to show the HTML representation or trust the notebook. <br />On GitHub, the HTML representation is unable to render, please try loading this page with nbviewer.org.</b></div><div class=\"sk-container\" hidden><div class=\"sk-item\"><div class=\"sk-estimator sk-toggleable\"><input class=\"sk-toggleable__control sk-hidden--visually\" id=\"sk-estimator-id-2\" type=\"checkbox\" checked><label for=\"sk-estimator-id-2\" class=\"sk-toggleable__label sk-toggleable__label-arrow\">RandomForestRegressor</label><div class=\"sk-toggleable__content\"><pre>RandomForestRegressor(random_state=42)</pre></div></div></div></div></div>"
            ]
          },
          "metadata": {},
          "execution_count": 22
        }
      ]
    },
    {
      "cell_type": "code",
      "source": [
        "# Make predictions\n",
        "y_pred = model.predict(X_test)"
      ],
      "metadata": {
        "id": "RsS4jXvB0fO_"
      },
      "execution_count": null,
      "outputs": []
    },
    {
      "cell_type": "code",
      "source": [
        "# Model metrics\n",
        "mse = mean_squared_error(y_test, y_pred)\n",
        "rmse = np.sqrt(mse)\n",
        "r2 = r2_score(y_test, y_pred)\n",
        "\n",
        "print(f\"Root Mean Squared Error: {rmse}\")\n",
        "print(f\"R-squared: {r2}\")"
      ],
      "metadata": {
        "id": "tsN0G_i70g38",
        "colab": {
          "base_uri": "https://localhost:8080/"
        },
        "outputId": "ebc86114-bd31-4fe5-e34d-6a70f6cd4ad9"
      },
      "execution_count": null,
      "outputs": [
        {
          "output_type": "stream",
          "name": "stdout",
          "text": [
            "Root Mean Squared Error: 0.199317544249925\n",
            "R-squared: 0.6122014287428537\n"
          ]
        }
      ]
    },
    {
      "cell_type": "code",
      "source": [
        "# Visualize it\n",
        "import matplotlib.pyplot as plt\n",
        "\n",
        "# Creating a scatter plot to compare actual vs. predicted CDR values\n",
        "plt.figure(figsize=(8, 6))\n",
        "plt.scatter(y_test, y_pred, c='blue', alpha=0.6)\n",
        "plt.xlabel('Actual CDR')\n",
        "plt.ylabel('Predicted CDR')\n",
        "plt.title('Actual vs. Predicted CDR Values')\n",
        "plt.grid(True)\n",
        "\n",
        "# Add a diagonal line to visualize perfect predictions\n",
        "plt.plot([min(y_test), max(y_test)], [min(y_test), max(y_test)], linestyle='--', color='red', linewidth=2)\n",
        "\n",
        "# Display the plot\n",
        "plt.show()\n"
      ],
      "metadata": {
        "id": "YhgmndWD0idI",
        "colab": {
          "base_uri": "https://localhost:8080/",
          "height": 564
        },
        "outputId": "c5773035-32d0-4369-943b-5f4296a48175"
      },
      "execution_count": null,
      "outputs": [
        {
          "output_type": "display_data",
          "data": {
            "text/plain": [
              "<Figure size 800x600 with 1 Axes>"
            ],
            "image/png": "[encoded data removed]"
          },
          "metadata": {}
        }
      ]
    },
    {
      "cell_type": "code",
      "source": [
        "# Input your own data to get a prediction\n",
        "def predict_cdr(model, input_data):\n",
        "    \"\"\"\n",
        "    Parameters:\n",
        "    - model: Trained regression model (e.g., Linear Regression)\n",
        "    - input_data: numpy array with your data\n",
        "\n",
        "    Returns:\n",
        "    - Predicted CDR (a float)\n",
        "    \"\"\"\n",
        "    # Ensuring that input_data has the correct number of features\n",
        "    if len(input_data) != 8:\n",
        "        raise ValueError(\"Input data should contain 8 values: 'M/F', 'Age', 'Educ', 'SES', 'MMSE', 'eTIV', 'nWBV', 'ASF'\")\n",
        "\n",
        "    # Convert input_data to a NumPy array and reshape it for prediction\n",
        "    input_data = np.array(input_data).reshape(1, -1)\n",
        "\n",
        "    # Make the prediction using the trained model\n",
        "    predicted_cdr = model.predict(input_data)\n",
        "\n",
        "    return predicted_cdr[0]  # Return the predicted CDR as a float\n",
        "\n",
        "\n",
        "# input_data: A list or NumPy array containing the input parameters IN THE ORDER: 'M/F', 'Age', 'Educ', 'SES', 'MMSE', 'eTIV', 'nWBV', 'ASF'\n",
        "input_data = np.array([0,49,4,0,29,1564,0.734,1.122])\n",
        "# NOTE: F=0, M=1 (this took me way too long to fix)\n",
        "print(predict_cdr(model, input_data)) #Should print close to 0\n",
        "\n",
        "# more tests\n",
        "# NOTE: this accuracy may be due to overfitting. Finding new data is instrumental\n",
        "input_data = np.array([1,82,2,3,27,1420,0.71,1.236])\n",
        "print(predict_cdr(model, input_data)) #Should print close to .5\n",
        "\n",
        "input_data = np.array([0,80,3,2,20,1732,0.692,1.013])\n",
        "print(predict_cdr(model, input_data)) #Should print close to 1\n",
        "\n",
        "input_data = np.array([1,86,1,4,15,1512,0.665,1.161])\n",
        "print(predict_cdr(model, input_data)) #Should print close to 2"
      ],
      "metadata": {
        "id": "DXsao_uV8lir",
        "colab": {
          "base_uri": "https://localhost:8080/"
        },
        "outputId": "08c55f4a-668d-429b-9328-513cebb99bec"
      },
      "execution_count": null,
      "outputs": [
        {
          "output_type": "stream",
          "name": "stdout",
          "text": [
            "Warning: a callable with the name 'predict_cdr' has already been registered. This is probably not what you want\n",
            "0.165\n",
            "0.495\n",
            "0.86\n",
            "1.595\n"
          ]
        },
        {
          "output_type": "stream",
          "name": "stderr",
          "text": [
            "/usr/local/lib/python3.10/dist-packages/sklearn/base.py:439: UserWarning: X does not have valid feature names, but RandomForestRegressor was fitted with feature names\n",
            "  warnings.warn(\n",
            "/usr/local/lib/python3.10/dist-packages/sklearn/base.py:439: UserWarning: X does not have valid feature names, but RandomForestRegressor was fitted with feature names\n",
            "  warnings.warn(\n",
            "/usr/local/lib/python3.10/dist-packages/sklearn/base.py:439: UserWarning: X does not have valid feature names, but RandomForestRegressor was fitted with feature names\n",
            "  warnings.warn(\n",
            "/usr/local/lib/python3.10/dist-packages/sklearn/base.py:439: UserWarning: X does not have valid feature names, but RandomForestRegressor was fitted with feature names\n",
            "  warnings.warn(\n"
          ]
        }
      ]
    },
    {
      "cell_type": "code",
      "source": [
        "def button_click(self, **event_args):\n",
        "    \"\"\"This method is called when the button is clicked\"\"\"\n",
        "    # Call the google colab function and pass it the iris measurements\n",
        "    self.result.text = \"Your CDR Prediction is \"\n",
        "    print(\"worked\")\n",
        "    data = np.array([self.gender.text,self.age.text,self.edu.text,self.ses.text,self.mmse.text,self.etiv.text,self.nwbv.text,self.asf.text]).astype(float)\n",
        "    result = anvil.server.call('predict_cdr', model, data)\n",
        "\n",
        "    self.result.visible = True\n",
        "    self.result.text = \"Your CDR Prediction is \" + result"
      ],
      "metadata": {
        "id": "xGGezGAeLVYC"
      },
      "execution_count": null,
      "outputs": []
    },
    {
      "cell_type": "markdown",
      "source": [
        "**Conclusion**\n",
        "\n",
        "Now, while this may seem like a conclusive Alzheimer's/Dementia detection model, it is far from done. One obvious shortcoming is that if you are left-handed, this model doesn't apply to you at all. There must be serveral other factors like that, and as such it is important that this continues to be studied"
      ],
      "metadata": {
        "id": "4ApklgcXMs6o"
      }
    }
  ]
}